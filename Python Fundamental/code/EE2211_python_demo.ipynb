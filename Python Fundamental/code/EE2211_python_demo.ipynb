{
 "cells": [
  {
   "cell_type": "markdown",
   "metadata": {},
   "source": [
    "## EE2211 Python Demo\n",
    "\n"
   ]
  },
  {
   "cell_type": "markdown",
   "metadata": {},
   "source": [
    "### Operations"
   ]
  },
  {
   "cell_type": "code",
   "execution_count": 24,
   "metadata": {},
   "outputs": [
    {
     "name": "stdout",
     "output_type": "stream",
     "text": [
      "a+b= 10\n",
      "a-b= 0\n",
      "a*b= 25\n",
      "a/b= 1.0\n",
      "a//b= 1\n",
      "a**b= 3125\n",
      "a%b= 0\n",
      "a==b True\n",
      "a>b False\n",
      "a>=b True\n",
      "a<b False\n",
      "a<=b True\n"
     ]
    }
   ],
   "source": [
    "a = 5\n",
    "b = 5\n",
    "# Algebra operation\n",
    "print(\"a+b=\", a+b)\n",
    "print(\"a-b=\", a-b)\n",
    "print(\"a*b=\", a*b)\n",
    "print(\"a/b=\", a/b)\n",
    "print(\"a//b=\", a//b) # Floor division\n",
    "print(\"a**b=\", a**b) # Exponentiation\n",
    "print(\"a%b=\", a%b) # Modulus\n",
    "# boolean operation\n",
    "print('a==b', a==b)\n",
    "print('a>b', a>b)\n",
    "print('a>=b', a>=b)\n",
    "print('a<b', a<b)\n",
    "print('a<=b', a<=b)\n"
   ]
  },
  {
   "cell_type": "code",
   "execution_count": 25,
   "metadata": {},
   "outputs": [
    {
     "ename": "ZeroDivisionError",
     "evalue": "division by zero",
     "output_type": "error",
     "traceback": [
      "\u001b[1;31m---------------------------------------------------------------------------\u001b[0m",
      "\u001b[1;31mZeroDivisionError\u001b[0m                         Traceback (most recent call last)",
      "Cell \u001b[1;32mIn[25], line 2\u001b[0m\n\u001b[0;32m      1\u001b[0m \u001b[38;5;66;03m# Overflow  \u001b[39;00m\n\u001b[1;32m----> 2\u001b[0m \u001b[38;5;241m10\u001b[39m \u001b[38;5;241m/\u001b[39m \u001b[38;5;241m0\u001b[39m\n",
      "\u001b[1;31mZeroDivisionError\u001b[0m: division by zero"
     ]
    }
   ],
   "source": [
    "# Overflow  \n",
    "10 / 0"
   ]
  },
  {
   "cell_type": "code",
   "execution_count": 10,
   "metadata": {},
   "outputs": [
    {
     "name": "stdout",
     "output_type": "stream",
     "text": [
      "Prof xinchao\n",
      "Prof xinchao\n",
      "Prof xinchao\n",
      "Prof xinchao\n",
      "Prof xinchao\n",
      "Prof xinchao\n",
      "Prof xinchao\n",
      "Prof xinchao\n",
      "Prof xinchao\n",
      "Prof xinchao\n"
     ]
    }
   ],
   "source": [
    "for i in range(10): \n",
    "    print(\"Prof xinchao\")\n",
    "# list(range(5))"
   ]
  },
  {
   "cell_type": "code",
   "execution_count": 12,
   "metadata": {},
   "outputs": [
    {
     "name": "stdout",
     "output_type": "stream",
     "text": [
      "a= 5 b= 5\n",
      "a==b\n"
     ]
    }
   ],
   "source": [
    "a = 5\n",
    "b = 5\n",
    "print('a=',a,'b=',b)\n",
    "if a>b:\n",
    "    print(\"a>b\")\n",
    "elif a==b:\n",
    "    print(\"a==b\")\n",
    "else:\n",
    "    print(\"a<b\")"
   ]
  },
  {
   "cell_type": "code",
   "execution_count": 14,
   "metadata": {},
   "outputs": [
    {
     "name": "stdout",
     "output_type": "stream",
     "text": [
      "1\n",
      "1\n",
      "1\n",
      "2\n",
      "3\n",
      "5\n",
      "8\n",
      "13\n",
      "21\n",
      "34\n"
     ]
    }
   ],
   "source": [
    "a = 10\n",
    "b = 5\n",
    "def f(a, b):\n",
    "    return a+b\n",
    "\n",
    "def f_m(a, b):\n",
    "    return a-b\n",
    "\n",
    "# Fibonacci sequence\n",
    "def fib(n):\n",
    "    a,b = 1,1\n",
    "    for i in range(n-1):\n",
    "        a,b = b,a+b\n",
    "    return a\n",
    "\n",
    "# print(f_m(a,b))\n",
    "for i in range(10):\n",
    "    print(fib(i))"
   ]
  },
  {
   "cell_type": "code",
   "execution_count": 16,
   "metadata": {},
   "outputs": [
    {
     "name": "stdout",
     "output_type": "stream",
     "text": [
      "Xingyi Yang is walking\n"
     ]
    }
   ],
   "source": [
    "class myname:\n",
    "    def __init__(self, name):\n",
    "        self.name = name\n",
    "        \n",
    "    def run(self):\n",
    "        print('{} is running'.format(self.name))\n",
    "        \n",
    "    def walk(self):\n",
    "        print('{} is walking'.format(self.name))\n",
    "\n",
    "obj = myname(\"Xingyi Yang\")\n",
    "# obj.run()\n",
    "obj.walk()"
   ]
  },
  {
   "cell_type": "markdown",
   "metadata": {},
   "source": [
    "### List data structure"
   ]
  },
  {
   "cell_type": "code",
   "execution_count": 19,
   "metadata": {},
   "outputs": [
    {
     "name": "stdout",
     "output_type": "stream",
     "text": [
      "[1, 2, 3, 4, 5, 6, 7, 8, 9, 10, 11, 12, 13, 14, 15, 16, 17, 18, 19]\n",
      "[1, 2, 3, 4, 5, 6, 7, 8, 9, 10, 1]\n"
     ]
    }
   ],
   "source": [
    "# create a list in ascending order, 1 to 10\n",
    "# usually this is done through loop or other functions\n",
    "\n",
    "# list\n",
    "# dict\n",
    "# tuple\n",
    "\n",
    "# mylist = []\n",
    "mylist = list()\n",
    "for i in range(1, 20):\n",
    "    mylist.append(i)\n",
    "print(mylist)\n",
    "mylist = list(range(1, 11)) + [1]\n",
    "print(mylist)"
   ]
  },
  {
   "cell_type": "code",
   "execution_count": null,
   "metadata": {},
   "outputs": [
    {
     "name": "stdout",
     "output_type": "stream",
     "text": [
      "[1, 2, 3, 4, 5, 6, 7, 8, 9, 10]\n"
     ]
    }
   ],
   "source": [
    "mylist = [i for i in range(1, 11)]\n",
    "print(mylist)"
   ]
  },
  {
   "cell_type": "code",
   "execution_count": null,
   "metadata": {},
   "outputs": [
    {
     "name": "stdout",
     "output_type": "stream",
     "text": [
      "[1, 4, 9, 16]\n"
     ]
    }
   ],
   "source": [
    "# we can do additional operation on i\n",
    "# if we want each element to raise to the power of 2\n",
    "mylist = [ i ** 2 for i in range(1, 5)]\n",
    "print(mylist)"
   ]
  },
  {
   "cell_type": "code",
   "execution_count": null,
   "metadata": {},
   "outputs": [
    {
     "name": "stdout",
     "output_type": "stream",
     "text": [
      "[4, 16, 36, 64, 100, 144, 196, 256, 324]\n"
     ]
    }
   ],
   "source": [
    "# we can also place a condition on i\n",
    "# say i has to be even\n",
    "mylist = [i ** 2 for i in range(1, 20) if i % 2 == 0]\n",
    "print(mylist)"
   ]
  },
  {
   "cell_type": "code",
   "execution_count": null,
   "metadata": {},
   "outputs": [
    {
     "name": "stdout",
     "output_type": "stream",
     "text": [
      "[99, 4, 99, 16, 99, 36, 99, 64, 99, 100]\n"
     ]
    }
   ],
   "source": [
    "# or place another number when it is not even\n",
    "mylist = [i ** 2 if i % 2 == 0 else 99 for i in range(1, 11)]\n",
    "print(mylist)"
   ]
  },
  {
   "cell_type": "code",
   "execution_count": 9,
   "metadata": {},
   "outputs": [
    {
     "name": "stdout",
     "output_type": "stream",
     "text": [
      "[4, 16, 36, 64, 100, 144, 196, 256, 324]\n",
      "[196, 256, 324]\n",
      "4\n",
      "16\n",
      "324\n",
      "256\n",
      "[16, 36, 64, 100, 144, 196, 256, 324]\n"
     ]
    }
   ],
   "source": [
    "# slicing\n",
    "# get the last 3 elements if you don't know the total length\n",
    "mylist = [i ** 2 for i in range(1, 20) if i % 2 == 0]\n",
    "print(mylist)\n",
    "print(mylist[-3:])\n",
    "print(mylist[0])\n",
    "print(mylist[1])\n",
    "print(mylist[-1])\n",
    "print(mylist[-2])\n",
    "print(mylist[1:])"
   ]
  },
  {
   "cell_type": "code",
   "execution_count": 26,
   "metadata": {},
   "outputs": [
    {
     "name": "stdout",
     "output_type": "stream",
     "text": [
      "(1, 3, 4)\n",
      "(1, 3, 4, 1)\n",
      "[2, 16, 36, 64, 100, 144, 196, 256, 324]\n"
     ]
    },
    {
     "ename": "TypeError",
     "evalue": "'tuple' object does not support item assignment",
     "output_type": "error",
     "traceback": [
      "\u001b[1;31m---------------------------------------------------------------------------\u001b[0m",
      "\u001b[1;31mTypeError\u001b[0m                                 Traceback (most recent call last)",
      "Cell \u001b[1;32mIn[26], line 9\u001b[0m\n\u001b[0;32m      7\u001b[0m mylist[\u001b[38;5;241m0\u001b[39m] \u001b[38;5;241m=\u001b[39m \u001b[38;5;241m2\u001b[39m\n\u001b[0;32m      8\u001b[0m \u001b[38;5;28mprint\u001b[39m(mylist)\n\u001b[1;32m----> 9\u001b[0m mytuple[\u001b[38;5;241m0\u001b[39m] \u001b[38;5;241m=\u001b[39m \u001b[38;5;241m2\u001b[39m\n",
      "\u001b[1;31mTypeError\u001b[0m: 'tuple' object does not support item assignment"
     ]
    }
   ],
   "source": [
    "# if we want index 1, 3, 4\n",
    "mytuple = (1,3,4)\n",
    "print(mytuple)\n",
    "# print(mylist[1], mylist[3], mylist[4])\n",
    "mytuple = (1,3,4,1)\n",
    "print(mytuple)\n",
    "mylist[0] = 2\n",
    "print(mylist)\n",
    "mytuple[0] = 2\n"
   ]
  },
  {
   "cell_type": "markdown",
   "metadata": {},
   "source": [
    "### Dictionary"
   ]
  },
  {
   "cell_type": "code",
   "execution_count": 27,
   "metadata": {},
   "outputs": [
    {
     "name": "stdout",
     "output_type": "stream",
     "text": [
      "{1: 'p', 2: 'a', 3: 'b'}\n",
      "10\n",
      "{1: 'p', 2: 'a', 3: 'b', 0: 10}\n",
      "{'2': 4, '4': 16, '6': 36, '8': 64, '10': 100}\n"
     ]
    }
   ],
   "source": [
    "mylist = [i for i in range(1, 11)]\n",
    "# create a mapping (to square) only for the even number\n",
    "# mydict = {1:0, 2:1, 3:2}\n",
    "# print(mydict)\n",
    "# mydict = dict(p=1,a=2,b=3)\n",
    "mydict = {1:\"p\",2:\"a\",3:\"b\"}\n",
    "print(mydict)\n",
    "mydict[0] = 10\n",
    "# hashmap \n",
    "# 1 key -> 1: value\n",
    "\n",
    "print(mydict[0])\n",
    "\n",
    "print(mydict)\n",
    "even_to_square = {\"{}\".format(i) : i ** 2 for i in mylist if i % 2 == 0}\n",
    "print(even_to_square)\n",
    "# print(even_to_square[2])"
   ]
  },
  {
   "cell_type": "markdown",
   "metadata": {},
   "source": [
    "### Example 1"
   ]
  },
  {
   "cell_type": "code",
   "execution_count": null,
   "metadata": {},
   "outputs": [],
   "source": [
    "# suppose we have two bags, each contains 10 cards labeled with number from 1 to 10. \n",
    "# we randomly draw 1 card from each bag\n",
    "# we add the number from the two cards together to get number S\n",
    "# what is the probability of S > 15"
   ]
  },
  {
   "cell_type": "code",
   "execution_count": null,
   "metadata": {},
   "outputs": [
    {
     "name": "stdout",
     "output_type": "stream",
     "text": [
      "[2, 3, 4, 5, 6, 7, 8, 9, 10, 11, 3, 4, 5, 6, 7, 8, 9, 10, 11, 12, 4, 5, 6, 7, 8, 9, 10, 11, 12, 13, 5, 6, 7, 8, 9, 10, 11, 12, 13, 14, 6, 7, 8, 9, 10, 11, 12, 13, 14, 15, 7, 8, 9, 10, 11, 12, 13, 14, 15, 16, 8, 9, 10, 11, 12, 13, 14, 15, 16, 17, 9, 10, 11, 12, 13, 14, 15, 16, 17, 18, 10, 11, 12, 13, 14, 15, 16, 17, 18, 19, 11, 12, 13, 14, 15, 16, 17, 18, 19, 20]\n"
     ]
    }
   ],
   "source": [
    "# first get all possible S values\n",
    "S_list = [i + j for i in range(1, 11) for j in range(1, 11)]\n",
    "print(S_list)"
   ]
  },
  {
   "cell_type": "code",
   "execution_count": null,
   "metadata": {},
   "outputs": [
    {
     "name": "stdout",
     "output_type": "stream",
     "text": [
      "{(1, 1): 2, (1, 2): 3, (1, 3): 4, (1, 4): 5, (1, 5): 6, (1, 6): 7, (1, 7): 8, (1, 8): 9, (1, 9): 10, (1, 10): 11, (2, 1): 3, (2, 2): 4, (2, 3): 5, (2, 4): 6, (2, 5): 7, (2, 6): 8, (2, 7): 9, (2, 8): 10, (2, 9): 11, (2, 10): 12, (3, 1): 4, (3, 2): 5, (3, 3): 6, (3, 4): 7, (3, 5): 8, (3, 6): 9, (3, 7): 10, (3, 8): 11, (3, 9): 12, (3, 10): 13, (4, 1): 5, (4, 2): 6, (4, 3): 7, (4, 4): 8, (4, 5): 9, (4, 6): 10, (4, 7): 11, (4, 8): 12, (4, 9): 13, (4, 10): 14, (5, 1): 6, (5, 2): 7, (5, 3): 8, (5, 4): 9, (5, 5): 10, (5, 6): 11, (5, 7): 12, (5, 8): 13, (5, 9): 14, (5, 10): 15, (6, 1): 7, (6, 2): 8, (6, 3): 9, (6, 4): 10, (6, 5): 11, (6, 6): 12, (6, 7): 13, (6, 8): 14, (6, 9): 15, (6, 10): 16, (7, 1): 8, (7, 2): 9, (7, 3): 10, (7, 4): 11, (7, 5): 12, (7, 6): 13, (7, 7): 14, (7, 8): 15, (7, 9): 16, (7, 10): 17, (8, 1): 9, (8, 2): 10, (8, 3): 11, (8, 4): 12, (8, 5): 13, (8, 6): 14, (8, 7): 15, (8, 8): 16, (8, 9): 17, (8, 10): 18, (9, 1): 10, (9, 2): 11, (9, 3): 12, (9, 4): 13, (9, 5): 14, (9, 6): 15, (9, 7): 16, (9, 8): 17, (9, 9): 18, (9, 10): 19, (10, 1): 11, (10, 2): 12, (10, 3): 13, (10, 4): 14, (10, 5): 15, (10, 6): 16, (10, 7): 17, (10, 8): 18, (10, 9): 19, (10, 10): 20}\n"
     ]
    }
   ],
   "source": [
    "# if we want to be more descriptive we can have a dictionary\n",
    "S_dict = {(i,j) : i + j for i in range(1, 11) for j in range(1, 11)}\n",
    "print(S_dict)"
   ]
  },
  {
   "cell_type": "code",
   "execution_count": null,
   "metadata": {},
   "outputs": [
    {
     "name": "stdout",
     "output_type": "stream",
     "text": [
      "[False, False, False, False, False, False, False, False, False, False, False, False, False, False, False, False, False, False, False, False, False, False, False, False, False, False, False, False, False, False, False, False, False, False, False, False, False, False, False, False, False, False, False, False, False, False, False, False, False, False, False, False, False, False, False, False, False, False, False, True, False, False, False, False, False, False, False, False, True, True, False, False, False, False, False, False, False, True, True, True, False, False, False, False, False, False, True, True, True, True, False, False, False, False, False, True, True, True, True, True]\n"
     ]
    }
   ],
   "source": [
    "candidates = [i > 15 for i in S_list]\n",
    "# for dictionary, we can run through the items(), keys() or values()\n",
    "# candidates = [i > 15 for i in S_dict.values()]\n",
    "print(candidates)\n"
   ]
  },
  {
   "cell_type": "code",
   "execution_count": null,
   "metadata": {},
   "outputs": [
    {
     "name": "stdout",
     "output_type": "stream",
     "text": [
      "0.15\n"
     ]
    }
   ],
   "source": [
    "print(sum(candidates) / len(candidates))"
   ]
  },
  {
   "cell_type": "markdown",
   "metadata": {},
   "source": [
    "### Numpy\n",
    "\n",
    "#### Array creation"
   ]
  },
  {
   "cell_type": "code",
   "execution_count": 29,
   "metadata": {},
   "outputs": [],
   "source": [
    "import numpy as np"
   ]
  },
  {
   "cell_type": "code",
   "execution_count": 32,
   "metadata": {},
   "outputs": [
    {
     "name": "stdout",
     "output_type": "stream",
     "text": [
      "<class 'numpy.ndarray'>\n",
      "(10, 10)\n",
      "[[ 1  2  3  4  5  6  7  8  9 10]\n",
      " [ 1  2  3  4  5  6  7  8  9 10]\n",
      " [ 1  2  3  4  5  6  7  8  9 10]\n",
      " [ 1  2  3  4  5  6  7  8  9 10]\n",
      " [ 1  2  3  4  5  6  7  8  9 10]\n",
      " [ 1  2  3  4  5  6  7  8  9 10]\n",
      " [ 1  2  3  4  5  6  7  8  9 10]\n",
      " [ 1  2  3  4  5  6  7  8  9 10]\n",
      " [ 1  2  3  4  5  6  7  8  9 10]\n",
      " [ 1  2  3  4  5  6  7  8  9 10]]\n",
      "[[ 2  3  4  5  6  7  8  9 10 11]\n",
      " [ 2  3  4  5  6  7  8  9 10 11]\n",
      " [ 2  3  4  5  6  7  8  9 10 11]\n",
      " [ 2  3  4  5  6  7  8  9 10 11]\n",
      " [ 2  3  4  5  6  7  8  9 10 11]\n",
      " [ 2  3  4  5  6  7  8  9 10 11]\n",
      " [ 2  3  4  5  6  7  8  9 10 11]\n",
      " [ 2  3  4  5  6  7  8  9 10 11]\n",
      " [ 2  3  4  5  6  7  8  9 10 11]\n",
      " [ 2  3  4  5  6  7  8  9 10 11]]\n"
     ]
    }
   ],
   "source": [
    "# array creation\n",
    "# 1. from list\n",
    "myarray = np.array([[i for i in range(1, 11)] for j in range(10)])\n",
    "print(type(myarray))\n",
    "print(myarray.shape)\n",
    "print(myarray)\n",
    "\n",
    "myarray2 = myarray + 1\n",
    "print(myarray2)"
   ]
  },
  {
   "cell_type": "code",
   "execution_count": 37,
   "metadata": {},
   "outputs": [
    {
     "name": "stdout",
     "output_type": "stream",
     "text": [
      "[[0 1 2]\n",
      " [1 2 3]\n",
      " [2 3 4]]\n",
      "(3, 3)\n"
     ]
    }
   ],
   "source": [
    "myarray = np.array([[i + j for i in range(3)] for j in range(3)])\n",
    "print(myarray)\n",
    "print(myarray.shape)"
   ]
  },
  {
   "cell_type": "code",
   "execution_count": null,
   "metadata": {},
   "outputs": [
    {
     "name": "stdout",
     "output_type": "stream",
     "text": [
      "[ 1  2  3  4  5  6  7  8  9 10]\n",
      "[[0. 0. 0. 0. 0. 0. 0. 0. 0. 0.]\n",
      " [0. 0. 0. 0. 0. 0. 0. 0. 0. 0.]\n",
      " [0. 0. 0. 0. 0. 0. 0. 0. 0. 0.]]\n",
      "[[1. 1. 1. 1. 1. 1. 1.]\n",
      " [1. 1. 1. 1. 1. 1. 1.]\n",
      " [1. 1. 1. 1. 1. 1. 1.]]\n",
      "[[-1 -1 -1 -1]\n",
      " [-1 -1 -1 -1]\n",
      " [-1 -1 -1 -1]]\n",
      "[[0.27666852 0.17275854 0.65636582 0.47744278]\n",
      " [0.64321193 0.40614114 0.50635798 0.17525486]\n",
      " [0.47891886 0.98567926 0.69861984 0.17021185]]\n"
     ]
    }
   ],
   "source": [
    "# 2. from functions\n",
    "myarray = np.arange(1, 11)\n",
    "# range()\n",
    "print(myarray)\n",
    "\n",
    "myarray = np.zeros((3,10))\n",
    "print(myarray)\n",
    "\n",
    "myarray = np.ones((3,7))\n",
    "print(myarray)\n",
    "\n",
    "myarray = np.full((3,4), -1)\n",
    "print(myarray)\n",
    "\n",
    "myarray = np.random.random((3,4))\n",
    "print(myarray)"
   ]
  },
  {
   "cell_type": "markdown",
   "metadata": {},
   "source": [
    "#### Array indexing"
   ]
  },
  {
   "cell_type": "code",
   "execution_count": 41,
   "metadata": {},
   "outputs": [
    {
     "name": "stdout",
     "output_type": "stream",
     "text": [
      "[2 3]\n"
     ]
    }
   ],
   "source": [
    "# to get certain part of the array, we can\n",
    "# slicing\n",
    "# print(myarray[2, :])\n",
    "print(myarray[1, 1:])\n",
    "\n",
    "# A slice is a view of the same data\n",
    "# b = myarray[-1, -3:]\n",
    "# print(b)\n",
    "# b[0] = 99\n",
    "# print(b)\n",
    "# print(myarray)\n",
    "# print(myarray[1])\n",
    "# print(myarray[1, 1])"
   ]
  },
  {
   "cell_type": "code",
   "execution_count": 42,
   "metadata": {},
   "outputs": [
    {
     "name": "stdout",
     "output_type": "stream",
     "text": [
      "[[0.24738513 0.09694748 0.107649   0.18491854]\n",
      " [0.54103419 0.9066002  0.06728869 0.63040915]\n",
      " [0.67208804 0.4115038  0.5883415  0.35669387]]\n",
      "[0.107649   0.06728869 0.5883415 ]\n"
     ]
    }
   ],
   "source": [
    "# integer array indexing\n",
    "myarray = np.random.random((3,4))\n",
    "print(myarray)\n",
    "print(myarray[[0, 1, 2],[2]])"
   ]
  },
  {
   "cell_type": "code",
   "execution_count": 43,
   "metadata": {},
   "outputs": [
    {
     "name": "stdout",
     "output_type": "stream",
     "text": [
      "[[False False False False]\n",
      " [ True  True False  True]\n",
      " [ True False  True False]]\n",
      "[0.54103419 0.9066002  0.63040915 0.67208804 0.5883415 ]\n",
      "[0.66666667 0.33333333 0.33333333 0.33333333]\n"
     ]
    }
   ],
   "source": [
    "# boolean array indexing\n",
    "S_array = np.array(myarray)\n",
    "# Find the elements of S_array that are bigger than 15;\n",
    "print(S_array > 0.5)\n",
    "# you can select elements based on boolean indexing\n",
    "print(S_array[S_array > 0.5])\n",
    "print(sum(S_array > 0.5) / S_array.shape[0])"
   ]
  },
  {
   "cell_type": "markdown",
   "metadata": {},
   "source": [
    "#### Array math"
   ]
  },
  {
   "cell_type": "code",
   "execution_count": null,
   "metadata": {},
   "outputs": [
    {
     "name": "stdout",
     "output_type": "stream",
     "text": [
      "[1 2 3 4 5 6 7 8 9]\n",
      "[[1 2 3]\n",
      " [4 5 6]\n",
      " [7 8 9]]\n",
      "[[ 2  3  4]\n",
      " [ 5  6  7]\n",
      " [ 8  9 10]]\n",
      "[[1. 1. 1.]\n",
      " [1. 1. 1.]\n",
      " [1. 1. 1.]]\n",
      "[[ 1  4  9]\n",
      " [16 25 36]\n",
      " [49 64 81]]\n"
     ]
    }
   ],
   "source": [
    "# element wise operation\n",
    "# create 4, 3 array with ascending values\n",
    "myarray = np.array([i for i in range(1, 10)])\n",
    "print(myarray)\n",
    "\n",
    "myarray = myarray.reshape(3, 3)\n",
    "print(myarray)\n",
    "\n",
    "print(myarray + 1)\n",
    "print(myarray / myarray)\n",
    "print(myarray * myarray)"
   ]
  },
  {
   "cell_type": "code",
   "execution_count": null,
   "metadata": {},
   "outputs": [
    {
     "name": "stdout",
     "output_type": "stream",
     "text": [
      "[[ 6.  6.  6.]\n",
      " [15. 15. 15.]\n",
      " [24. 24. 24.]]\n",
      "[[ 6.  6.  6.]\n",
      " [15. 15. 15.]\n",
      " [24. 24. 24.]]\n",
      "[[12. 15. 18.]\n",
      " [12. 15. 18.]\n",
      " [12. 15. 18.]]\n",
      "[[12. 12. 12.]\n",
      " [15. 15. 15.]\n",
      " [18. 18. 18.]]\n"
     ]
    }
   ],
   "source": [
    "# matrix operation\n",
    "another_array = np.ones((3,3))\n",
    "print(myarray @ another_array)\n",
    "print(myarray.dot(another_array))\n",
    "print(another_array @ myarray)\n",
    "print(myarray.T @ another_array)"
   ]
  },
  {
   "cell_type": "markdown",
   "metadata": {},
   "source": [
    "## Numpy 101 2/2\n",
    "### Broadcasting\n"
   ]
  },
  {
   "cell_type": "code",
   "execution_count": 46,
   "metadata": {},
   "outputs": [
    {
     "name": "stdout",
     "output_type": "stream",
     "text": [
      "[ 1  2  3  4  5  6  7  8  9 10 11 12]\n",
      "[[ 1  2  3  4]\n",
      " [ 5  6  7  8]\n",
      " [ 9 10 11 12]]\n"
     ]
    }
   ],
   "source": [
    "# in matrix addtion two matrix must be of the same shape\n",
    "# in numpy different shaped matrix can still add, here we learn \n",
    "# their behavior\n",
    "import numpy as np\n",
    "myarray = np.array([i for i in range(1, 13)])\n",
    "print(myarray)\n",
    "myarray = myarray.reshape(3,4)\n",
    "print(myarray)"
   ]
  },
  {
   "cell_type": "code",
   "execution_count": null,
   "metadata": {},
   "outputs": [
    {
     "name": "stdout",
     "output_type": "stream",
     "text": [
      "[1 0 1]\n",
      "[[ 2  2  4]\n",
      " [ 5  5  7]\n",
      " [ 8  8 10]]\n"
     ]
    }
   ],
   "source": [
    "a = np.array([1, 0, 1])\n",
    "print(a)\n",
    "print(myarray + a)"
   ]
  },
  {
   "cell_type": "code",
   "execution_count": null,
   "metadata": {},
   "outputs": [
    {
     "name": "stdout",
     "output_type": "stream",
     "text": [
      "[[1 4 7]\n",
      " [2 5 8]\n",
      " [3 6 9]]\n"
     ]
    }
   ],
   "source": [
    "# numpy does not differentiate row vector or column vector\n",
    "# we can change the shape to be explicit\n",
    "# print(a.shape)\n",
    "# print(a.T.shape)\n",
    "# a = np.array([1, 0, 1])\n",
    "# print(myarray.T)\n",
    "print(myarray + a.reshape(3, 1))\n",
    "print(myarray + a.reshape(-1, 1))"
   ]
  },
  {
   "cell_type": "code",
   "execution_count": null,
   "metadata": {},
   "outputs": [
    {
     "name": "stdout",
     "output_type": "stream",
     "text": [
      "(5, 2)\n"
     ]
    }
   ],
   "source": [
    "# add two vector to get an array\n",
    "\n",
    "# 1x10 -> -1 x 2\n",
    "a = np.arange(1, 11).reshape(-1, 2)\n",
    "print(a.shape)\n",
    "# b = np.arange(1, 11).reshape(1, -1)\n",
    "# print(b)\n",
    "# c = a + b\n",
    "# print(c.shape)\n",
    "# c"
   ]
  },
  {
   "cell_type": "code",
   "execution_count": null,
   "metadata": {},
   "outputs": [
    {
     "name": "stdout",
     "output_type": "stream",
     "text": [
      "1095\n",
      "[ 65  75  85  88 107 115 125 135 145 155]\n",
      "[ 65  75  80  95 105 115 125 135 145 155]\n"
     ]
    }
   ],
   "source": [
    "print(np.sum(c))\n",
    "# print(np.sum(c, axis=0))\n",
    "c[2,3] = 0\n",
    "c[2,4] = 10\n",
    "# print(c)\n",
    "print(np.sum(c, axis=0))\n",
    "print(np.sum(c, axis=1))\n",
    "# print(np.sum(c > 15) / np.count_nonzero(c))"
   ]
  },
  {
   "cell_type": "markdown",
   "metadata": {},
   "source": [
    "### array axis"
   ]
  },
  {
   "cell_type": "code",
   "execution_count": null,
   "metadata": {},
   "outputs": [
    {
     "data": {
      "text/plain": [
       "array([[ 0,  1,  2,  3],\n",
       "       [ 4,  5,  6,  7],\n",
       "       [ 8,  9, 10, 11]])"
      ]
     },
     "execution_count": 28,
     "metadata": {},
     "output_type": "execute_result"
    }
   ],
   "source": [
    "# axis\n",
    "myarray = np.arange(12).reshape(3,4)\n",
    "myarray"
   ]
  },
  {
   "cell_type": "code",
   "execution_count": null,
   "metadata": {},
   "outputs": [
    {
     "data": {
      "text/plain": [
       "array([ 6, 22, 38])"
      ]
     },
     "execution_count": 29,
     "metadata": {},
     "output_type": "execute_result"
    }
   ],
   "source": [
    "np.sum(myarray, axis=1)"
   ]
  },
  {
   "cell_type": "markdown",
   "metadata": {},
   "source": [
    "#### Computing Matrix Rank with NumPy"
   ]
  },
  {
   "cell_type": "code",
   "execution_count": null,
   "metadata": {},
   "outputs": [],
   "source": [
    "import numpy as np\n",
    "\n",
    "# Define a matrix\n",
    "A = np.array([[1, 2, 3],\n",
    "              [4, 5, 6],\n",
    "              [7, 8, 9]])\n",
    "\n",
    "# Compute the rank of the matrix\n",
    "rank = np.linalg.matrix_rank(A)\n",
    "\n",
    "print(\"Matrix A:\")\n",
    "print(A)\n",
    "print(\"\\nRank of matrix A:\", rank)"
   ]
  },
  {
   "cell_type": "markdown",
   "metadata": {},
   "source": [
    "### Linear Algebra\n",
    "\n",
    "[https://numpy.org/doc/1.20/reference/routines.linalg.html](https://numpy.org/doc/1.20/reference/routines.linalg.html)\n"
   ]
  },
  {
   "cell_type": "markdown",
   "metadata": {},
   "source": [
    "## Plotting"
   ]
  },
  {
   "cell_type": "markdown",
   "metadata": {},
   "source": [
    "![matploblib cheatsheet](images/handout-beginner.png) Taken from [https://github.com/matplotlib/cheatsheets](https://github.com/matplotlib/cheatsheets)"
   ]
  },
  {
   "cell_type": "markdown",
   "metadata": {},
   "source": [
    "## Misc.\n",
    "\n",
    "[https://scipy-lectures.org/index.html](https://scipy-lectures.org/index.html)"
   ]
  },
  {
   "cell_type": "code",
   "execution_count": 47,
   "metadata": {},
   "outputs": [
    {
     "data": {
      "text/plain": [
       "[<matplotlib.lines.Line2D at 0x127e85e70>]"
      ]
     },
     "execution_count": 47,
     "metadata": {},
     "output_type": "execute_result"
    },
    {
     "data": {
      "image/png": "[encoded data removed]",
      "text/plain": [
       "<Figure size 432x288 with 1 Axes>"
      ]
     },
     "metadata": {
      "needs_background": "light"
     },
     "output_type": "display_data"
    }
   ],
   "source": [
    "import numpy as np\n",
    "import matplotlib.pyplot as plt\n",
    "\n",
    "X = np.linspace(-np.pi, np.pi, 100)\n",
    "# print(X)\n",
    "C, S = np.cos(X), np.sin(X)\n",
    "# print(C)\n",
    "\n",
    "plt.plot(X, C)\n",
    "plt.plot(X, S)\n",
    "\n",
    "plt.show()\n",
    "plt.savefig('test.png')"
   ]
  },
  {
   "cell_type": "code",
   "execution_count": null,
   "metadata": {},
   "outputs": [
    {
     "data": {
      "image/png": "[encoded data removed]",
      "text/plain": [
       "<Figure size 432x288 with 1 Axes>"
      ]
     },
     "metadata": {
      "needs_background": "light"
     },
     "output_type": "display_data"
    }
   ],
   "source": [
    "X = np.linspace(-np.pi, np.pi, 64)\n",
    "C, S = np.cos(X), np.sin(X)\n",
    "\n",
    "plt.scatter(X, C)\n",
    "plt.scatter(X, S)\n",
    "\n",
    "plt.show()"
   ]
  },
  {
   "cell_type": "code",
   "execution_count": null,
   "metadata": {},
   "outputs": [
    {
     "data": {
      "image/png": "[encoded data removed]",
      "text/plain": [
       "<Figure size 432x288 with 1 Axes>"
      ]
     },
     "metadata": {
      "needs_background": "light"
     },
     "output_type": "display_data"
    }
   ],
   "source": [
    "X = np.linspace(-np.pi, np.pi, 25)\n",
    "C, S = np.cos(X), np.sin(X)\n",
    "\n",
    "plt.bar(X, C)\n",
    "\n",
    "plt.show()"
   ]
  }
 ],
 "metadata": {
  "kernelspec": {
   "display_name": "EE2211",
   "language": "python",
   "name": "python3"
  },
  "language_info": {
   "codemirror_mode": {
    "name": "ipython",
    "version": 3
   },
   "file_extension": ".py",
   "mimetype": "text/x-python",
   "name": "python",
   "nbconvert_exporter": "python",
   "pygments_lexer": "ipython3",
   "version": "3.12.4"
  }
 },
 "nbformat": 4,
 "nbformat_minor": 4
}
